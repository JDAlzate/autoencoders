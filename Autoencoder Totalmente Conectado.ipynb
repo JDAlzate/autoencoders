{
 "cells": [
  {
   "cell_type": "markdown",
   "metadata": {},
   "source": [
    "# Autoencoder Totalmente Conectado\n",
    "\n",
    "Con el fin de mantener las tradiciones de deep learning, usaremos el conjunto de datos MNIST para implementar la versión más sencilla de un autoencoder.\n",
    "\n",
    "Al pasar las imágenes por el autoencoder, terminaremos con una versión comprimida de las mismas.\n",
    "\n",
    "Usaremos TensorFlow para esta tarea.\n",
    "\n",
    "<img src=\"images/autoencoder_1.png\">"
   ]
  },
  {
   "cell_type": "markdown",
   "metadata": {},
   "source": [
    "## Preliminares\n",
    "\n",
    "Empezaremos importando las librerias y dependencias necesarias."
   ]
  },
  {
   "cell_type": "code",
   "execution_count": 1,
   "metadata": {},
   "outputs": [],
   "source": [
    "%matplotlib inline\n",
    "\n",
    "import numpy as np\n",
    "import tensorflow as tf\n",
    "import matplotlib.pyplot as plt"
   ]
  },
  {
   "cell_type": "markdown",
   "metadata": {},
   "source": [
    "## Importando los Datos\n",
    "\n",
    "Dada la enorme popularidad de MNIST, TensorFlow viene equipado con dicho conjunto de datos."
   ]
  },
  {
   "cell_type": "code",
   "execution_count": 2,
   "metadata": {},
   "outputs": [
    {
     "name": "stdout",
     "output_type": "stream",
     "text": [
      "WARNING:tensorflow:From <ipython-input-2-8c515496db61>:2: read_data_sets (from tensorflow.contrib.learn.python.learn.datasets.mnist) is deprecated and will be removed in a future version.\n",
      "Instructions for updating:\n",
      "Please use alternatives such as official/mnist/dataset.py from tensorflow/models.\n",
      "WARNING:tensorflow:From /usr/lib/python3/dist-packages/tensorflow/contrib/learn/python/learn/datasets/mnist.py:260: maybe_download (from tensorflow.contrib.learn.python.learn.datasets.base) is deprecated and will be removed in a future version.\n",
      "Instructions for updating:\n",
      "Please write your own downloading logic.\n",
      "WARNING:tensorflow:From /usr/lib/python3/dist-packages/tensorflow/contrib/learn/python/learn/datasets/mnist.py:262: extract_images (from tensorflow.contrib.learn.python.learn.datasets.mnist) is deprecated and will be removed in a future version.\n",
      "Instructions for updating:\n",
      "Please use tf.data to implement this functionality.\n",
      "Extracting MNIST_data/train-images-idx3-ubyte.gz\n",
      "WARNING:tensorflow:From /usr/lib/python3/dist-packages/tensorflow/contrib/learn/python/learn/datasets/mnist.py:267: extract_labels (from tensorflow.contrib.learn.python.learn.datasets.mnist) is deprecated and will be removed in a future version.\n",
      "Instructions for updating:\n",
      "Please use tf.data to implement this functionality.\n",
      "Extracting MNIST_data/train-labels-idx1-ubyte.gz\n",
      "Extracting MNIST_data/t10k-images-idx3-ubyte.gz\n",
      "Extracting MNIST_data/t10k-labels-idx1-ubyte.gz\n",
      "WARNING:tensorflow:From /usr/lib/python3/dist-packages/tensorflow/contrib/learn/python/learn/datasets/mnist.py:290: DataSet.__init__ (from tensorflow.contrib.learn.python.learn.datasets.mnist) is deprecated and will be removed in a future version.\n",
      "Instructions for updating:\n",
      "Please use alternatives such as official/mnist/dataset.py from tensorflow/models.\n"
     ]
    }
   ],
   "source": [
    "from tensorflow.examples.tutorials.mnist import input_data\n",
    "mnist = input_data.read_data_sets('MNIST_data', validation_size=0)"
   ]
  },
  {
   "cell_type": "markdown",
   "metadata": {},
   "source": [
    "## Ojeando los Datos\n",
    "\n",
    "Echemos un vistazo a una de nuestras imágenes de ejemplo."
   ]
  },
  {
   "cell_type": "code",
   "execution_count": 3,
   "metadata": {},
   "outputs": [
    {
     "data": {
      "text/plain": [
       "<matplotlib.image.AxesImage at 0x7f3784fe9f98>"
      ]
     },
     "execution_count": 3,
     "metadata": {},
     "output_type": "execute_result"
    },
    {
     "data": {
      "image/png": "[encoded data removed]",
      "text/plain": [
       "<matplotlib.figure.Figure at 0x7f378c1884a8>"
      ]
     },
     "metadata": {},
     "output_type": "display_data"
    }
   ],
   "source": [
    "image_index = np.random.randint(len(mnist.train.images))\n",
    "image = mnist.train.images[image_index]\n",
    "plt.imshow(image.reshape((28, 28)), cmap='gray')"
   ]
  },
  {
   "cell_type": "markdown",
   "metadata": {},
   "source": [
    "Para entener el autoencoder, aplanaremos estas imágenes en un vector de 784 elementos.\n",
    "\n",
    "EL lado bueno de MNIST es que sus imágenes ya están normalizadas de manera tal que cada pixel está entre 0 y 1.\n",
    "\n",
    "Puesto que nuestra meta es entender el funcionamiento de los autoencoders (en vez de construir un modelo vanguardista), crearemos uno con una sola capa oculta (_hidden layer_), la cual actuará como capa cuello de botella (_bottleneck layer_), a partir de la cual el decodificador empezará el proceso de reconstrucción de la imagen original.\n",
    "\n",
    "<img src=\"images/simple_autoencoder.png\">"
   ]
  },
  {
   "cell_type": "code",
   "execution_count": 4,
   "metadata": {},
   "outputs": [],
   "source": [
    "encoding_size = 32\n",
    "\n",
    "image_size = mnist.train.images.shape[1]\n",
    "\n",
    "inputs = tf.placeholder(tf.float32, (None, image_size), name='inputs')\n",
    "targets = tf.placeholder(tf.float32, (None, image_size), name='targets')\n",
    "\n",
    "# Hidden layer output\n",
    "encoded = tf.layers.dense(inputs, encoding_size, activation=tf.nn.relu)\n",
    "\n",
    "# Logits of the output layer\n",
    "logits = tf.layers.dense(encoded, image_size, activation=None)\n",
    "\n",
    "decoded = tf.nn.sigmoid(logits, name='output')\n",
    "\n",
    "loss = tf.nn.sigmoid_cross_entropy_with_logits(labels=targets, logits=logits)\n",
    "cost = tf.reduce_mean(loss)\n",
    "optimizer = tf.train.AdamOptimizer(learning_rate=0.001).minimize(cost)"
   ]
  },
  {
   "cell_type": "markdown",
   "metadata": {},
   "source": [
    "## Entrenamiento\n",
    "\n",
    "Entrenemos nuestra red. Dado que este es un problema de aprendizaje no supervisado, no le prestaremos atención a las etiquetas, sino únicamente a los ejemplos o instancias de entrenamiento."
   ]
  },
  {
   "cell_type": "code",
   "execution_count": 5,
   "metadata": {
    "scrolled": true
   },
   "outputs": [
    {
     "name": "stdout",
     "output_type": "stream",
     "text": [
      "Epoch: 1/30\n",
      "Training loss: 0.19085310399532318\n",
      "Epoch: 2/30\n",
      "Training loss: 0.11885757744312286\n",
      "Epoch: 3/30\n",
      "Training loss: 0.10321245342493057\n",
      "Epoch: 4/30\n",
      "Training loss: 0.09727531671524048\n",
      "Epoch: 5/30\n",
      "Training loss: 0.09539952129125595\n",
      "Epoch: 6/30\n",
      "Training loss: 0.09462495893239975\n",
      "Epoch: 7/30\n",
      "Training loss: 0.09424903243780136\n",
      "Epoch: 8/30\n",
      "Training loss: 0.09397470206022263\n",
      "Epoch: 9/30\n",
      "Training loss: 0.09377527236938477\n",
      "Epoch: 10/30\n",
      "Training loss: 0.09361094236373901\n",
      "Epoch: 11/30\n",
      "Training loss: 0.09350372105836868\n",
      "Epoch: 12/30\n",
      "Training loss: 0.09340003877878189\n",
      "Epoch: 13/30\n",
      "Training loss: 0.0933358296751976\n",
      "Epoch: 14/30\n",
      "Training loss: 0.09328215569257736\n",
      "Epoch: 15/30\n",
      "Training loss: 0.09323769807815552\n",
      "Epoch: 16/30\n",
      "Training loss: 0.09320786595344543\n",
      "Epoch: 17/30\n",
      "Training loss: 0.09312088787555695\n",
      "Epoch: 18/30\n",
      "Training loss: 0.09310293942689896\n",
      "Epoch: 19/30\n",
      "Training loss: 0.09310244768857956\n",
      "Epoch: 20/30\n",
      "Training loss: 0.09305239468812943\n",
      "Epoch: 21/30\n",
      "Training loss: 0.09304848313331604\n",
      "Epoch: 22/30\n",
      "Training loss: 0.09300339967012405\n",
      "Epoch: 23/30\n",
      "Training loss: 0.09298985451459885\n",
      "Epoch: 24/30\n",
      "Training loss: 0.09295906871557236\n",
      "Epoch: 25/30\n",
      "Training loss: 0.09295181930065155\n",
      "Epoch: 26/30\n",
      "Training loss: 0.09292172640562057\n",
      "Epoch: 27/30\n",
      "Training loss: 0.0929172933101654\n",
      "Epoch: 28/30\n",
      "Training loss: 0.09285932034254074\n",
      "Epoch: 29/30\n",
      "Training loss: 0.09287671744823456\n",
      "Epoch: 30/30\n",
      "Training loss: 0.09289374202489853\n"
     ]
    }
   ],
   "source": [
    "session = tf.Session()\n",
    "\n",
    "EPOCHS = 30\n",
    "BATCH_SIZE = 64\n",
    "\n",
    "session.run(tf.global_variables_initializer())\n",
    "\n",
    "for epoch in range(EPOCHS):\n",
    "    epoch_losses = []\n",
    "    for _ in range(mnist.train.num_examples // BATCH_SIZE):\n",
    "        batch = mnist.train.next_batch(BATCH_SIZE)\n",
    "        feed = {inputs: batch[0], targets: batch[0]}\n",
    "        batch_cost, _ = session.run([cost, optimizer], feed_dict=feed)\n",
    "        epoch_losses.append(batch_cost)\n",
    "        \n",
    "    print(f'Epoch: {epoch + 1}/{EPOCHS}')\n",
    "    print(f'Training loss: {np.mean(epoch_losses)}')"
   ]
  },
  {
   "cell_type": "markdown",
   "metadata": {},
   "source": [
    "## Resultados\n",
    "\n",
    "Veamos algunas de las imagenes del conjunto de pruebas, junto con la reconstrucción hecha por el decodificador."
   ]
  },
  {
   "cell_type": "code",
   "execution_count": 6,
   "metadata": {},
   "outputs": [
    {
     "data": {
      "image/png": "[encoded data removed]",
      "text/plain": [
       "<matplotlib.figure.Figure at 0x7f3784fc4be0>"
      ]
     },
     "metadata": {},
     "output_type": "display_data"
    }
   ],
   "source": [
    "fig, axes = plt.subplots(nrows=2, ncols=10, sharex=True, sharey=True, figsize=(20, 4))\n",
    "in_images = mnist.test.images[:10]\n",
    "reconstructed, compressed = session.run([decoded, encoded], feed_dict={inputs: in_images})\n",
    "\n",
    "for images, row in zip([in_images, reconstructed], axes):\n",
    "    for image, ax in zip(images, row):\n",
    "        ax.imshow(image.reshape((28, 28)), cmap='gray')\n",
    "        ax.get_xaxis().set_visible(False)\n",
    "        ax.get_yaxis().set_visible(False)\n",
    "        \n",
    "fig.tight_layout(pad=0.1)"
   ]
  },
  {
   "cell_type": "code",
   "execution_count": 7,
   "metadata": {},
   "outputs": [],
   "source": [
    "session.close()"
   ]
  },
  {
   "cell_type": "markdown",
   "metadata": {},
   "source": [
    "Podemos ver que las imagenes reconstruidas lucen bastante bien, a pesar de algunas áreas un tanto borrosas."
   ]
  }
 ],
 "metadata": {
  "kernelspec": {
   "display_name": "Python 3",
   "language": "python",
   "name": "python3"
  },
  "language_info": {
   "codemirror_mode": {
    "name": "ipython",
    "version": 3
   },
   "file_extension": ".py",
   "mimetype": "text/x-python",
   "name": "python",
   "nbconvert_exporter": "python",
   "pygments_lexer": "ipython3",
   "version": "3.6.7"
  }
 },
 "nbformat": 4,
 "nbformat_minor": 2
}
